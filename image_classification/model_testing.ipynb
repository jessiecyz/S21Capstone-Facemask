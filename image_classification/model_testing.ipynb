{
 "cells": [
  {
   "cell_type": "code",
   "execution_count": 69,
   "metadata": {},
   "outputs": [],
   "source": [
    "import datetime\n",
    "import numpy as np\n",
    "import tensorflow as tf\n",
    "from sklearn.metrics import f1_score, recall_score, precision_score\n",
    "from tensorflow.keras.preprocessing.image import ImageDataGenerator\n",
    "import MobileNetV3_6c as MobileNetV3\n",
    "\n",
    "\n",
    "import os\n",
    "import matplotlib.pyplot as plt # plt 用于显示图片\n",
    "import matplotlib.image as mpimg # mpimg 用于读取图片\n",
    "\n",
    "import random\n",
    "\n",
    "\n",
    "for gpu in tf.config.experimental.list_physical_devices('GPU'):\n",
    "    tf.config.experimental.set_memory_growth(gpu, True)\n",
    "\n",
    "\n",
    "def img_box(img, bbox):\n",
    "    [H, W, R] = np.shape(img)\n",
    "    x_min = int((bbox[0]-bbox[2]/2)*W)\n",
    "    x_max = int((bbox[0]+bbox[2]/2)*W)\n",
    "    y_min = int((bbox[1]-bbox[3]/2)*H)\n",
    "    y_max = int((bbox[1]+bbox[3]/2)*H)\n",
    "    return img[y_min:y_max,x_min:x_max,0:3]\n",
    "\n",
    "def data_load():\n",
    "\n",
    "    file_exts = ('jpeg','png','jpg')\n",
    "\n",
    "    images_list = []\n",
    "    labels_list = []\n",
    "\n",
    "    train_path1_image = './4_12_img_w_original/train/images'\n",
    "    train_paths_image = [train_path1_image]\n",
    "\n",
    "    train_path1_label = './4_12_img_w_original/train/labels'\n",
    "    train_paths_label = [train_path1_label]\n",
    "\n",
    "  \n",
    "    for ind,path in enumerate(train_paths_image):\n",
    "        for filename in os.listdir(path):\n",
    "            if filename.endswith(file_exts):\n",
    "\n",
    "                img_absolute_path = os.path.join(path,filename)\n",
    "                img = mpimg.imread(img_absolute_path)\n",
    "\n",
    "                (name,ext) = os.path.splitext(filename)\n",
    "\n",
    "                anno_absolute_path = os.path.join(train_paths_label[ind],name+'.txt')\n",
    "                if os.path.exists(anno_absolute_path):\n",
    "\n",
    "                    fp = open(anno_absolute_path)\n",
    "                    for line in fp.readlines():\n",
    "                        data_str = line.split()\n",
    "                        bbox = [float(i) for i in data_str]\n",
    "                        label = int(bbox[0])\n",
    "                        '''if label == 3:\n",
    "                            label =1\n",
    "                        elif label == 4:\n",
    "                            label = 2\n",
    "                        elif label == 5:\n",
    "                            label =3\n",
    "                            '''\n",
    "                        bbox = bbox[1:]\n",
    "\n",
    "                        img_new=img_box(img,bbox)\n",
    "                        if np.min(np.shape(img_new))<1:\n",
    "                            continue\n",
    "                        if img.max() <= 1.0:\n",
    "                            resized = tf.image.resize_with_pad(img_new,64,64,)\n",
    "                        else:\n",
    "                            resized = tf.image.resize_with_pad(img_new/255.0,64,64,)\n",
    "\n",
    "                        images_list.append(resized.numpy())\n",
    "                        labels_list.append(np.array([label]))\n",
    "                        \n",
    "\n",
    "    train_images = np.zeros((len(images_list),64,64,3), dtype = float)\n",
    "    train_labels = np.zeros((len(images_list),1), dtype = int)\n",
    "    for ind,img in enumerate(images_list):\n",
    "        train_images[ind] = img\n",
    "        train_labels[ind] = labels_list[ind]\n",
    "\n",
    "\n",
    "    images_list = []\n",
    "    labels_list = []\n",
    "    file_list = []\n",
    "    label_list = []\n",
    "    order_list = []\n",
    "\n",
    "    test_path1_image = './FinalFinalValid/valid/images'\n",
    "    test_paths_image = [test_path1_image]\n",
    "\n",
    "    test_path1_label = './FinalFinalValid/valid/labels'\n",
    "    test_paths_label = [test_path1_label]\n",
    "\n",
    "\n",
    "    for ind,path in enumerate(test_paths_image):\n",
    "        for filename in os.listdir(path):\n",
    "            if filename.endswith(file_exts):\n",
    "\n",
    "                img_absolute_path = os.path.join(path,filename)\n",
    "                img = mpimg.imread(img_absolute_path)\n",
    "\n",
    "                (name,ext) = os.path.splitext(filename)\n",
    "\n",
    "                anno_absolute_path = os.path.join(test_paths_label[ind],name+'.txt')\n",
    "                if os.path.exists(anno_absolute_path):\n",
    "\n",
    "                    fp = open(anno_absolute_path)\n",
    "                    order = 0\n",
    "                    for line in fp.readlines():\n",
    "                        data_str = line.split()\n",
    "                        label_list.append(line)\n",
    "                        bbox = [float(i) for i in data_str]\n",
    "                        label = int(bbox[0])\n",
    "                        '''\n",
    "                        if label == 3:\n",
    "                            label =1\n",
    "                        elif label == 4:\n",
    "                            label = 2\n",
    "                        elif label == 5:\n",
    "                            label =3\n",
    "                        '''\n",
    "                        bbox = bbox[1:]\n",
    "\n",
    "                        img_new=img_box(img,bbox)\n",
    "                        if np.min(np.shape(img_new))<1:\n",
    "                            continue\n",
    "                        if img.max() <= 1.0:\n",
    "                            resized = tf.image.resize_with_pad(img_new,64,64,)\n",
    "                        else:\n",
    "                            resized = tf.image.resize_with_pad(img_new/255.0,64,64,)\n",
    "\n",
    "                        images_list.append(resized.numpy())\n",
    "                        labels_list.append(np.array([label]))\n",
    "                        file_list.append(name)\n",
    "                        order_list.append(order)\n",
    "                        order += 1\n",
    "\n",
    "    test_images = np.zeros((len(images_list),64,64,3), dtype = float)\n",
    "    test_labels = np.zeros((len(images_list),1), dtype = int)\n",
    "    for ind,img in enumerate(images_list):\n",
    "        test_images[ind] = img\n",
    "        test_labels[ind] = labels_list[ind]\n",
    "\n",
    "    return (train_images,train_labels), (test_images, test_labels, file_list, order_list, label_list)\n"
   ]
  },
  {
   "cell_type": "code",
   "execution_count": 70,
   "metadata": {},
   "outputs": [
    {
     "name": "stdout",
     "output_type": "stream",
     "text": [
      "619/1 - 2s - loss: 1.2392 - accuracy: 0.7609\n"
     ]
    },
    {
     "data": {
      "text/plain": [
       "[1.4369336145182225, 0.76090467]"
      ]
     },
     "execution_count": 70,
     "metadata": {},
     "output_type": "execute_result"
    }
   ],
   "source": [
    "model_path = './140_6c_blur_weight.h5'\n",
    "(train_images,train_labels), (test_images, test_labels, file_list, order_list,label_list) = data_load()\n",
    "net = MobileNetV3.build_mobilenet()\n",
    "net.compile(loss='sparse_categorical_crossentropy', metrics=['accuracy'])\n",
    "net.build((1,64,64,3))\n",
    "net.load_weights(model_path)\n",
    "# pred_labels = net.predict_classes(test_images)\n",
    "net.evaluate(test_images, test_labels, verbose=2)"
   ]
  },
  {
   "cell_type": "code",
   "execution_count": 71,
   "metadata": {},
   "outputs": [],
   "source": [
    "pred_labels = net.predict(test_images)"
   ]
  },
  {
   "cell_type": "code",
   "execution_count": 95,
   "metadata": {},
   "outputs": [],
   "source": [
    "import pandas as pd\n",
    "\n",
    "err_ind_list = []\n",
    "err_file_list =[]\n",
    "err_group=[]\n",
    "out = []\n",
    "pred = np.argmax(pred_labels, axis=1)\n",
    "test = [test_labels[ind][0] for ind in range(len(test_labels))]\n",
    "for ind in range(len(test_labels)):\n",
    "    if pred[ind]!=test_labels[ind][0]:\n",
    "        err_ind_list.append([ind,(pred[ind],test_labels[ind][0])])\n",
    "        err_file_list.append(file_list[ind])\n",
    "        err_group.append((pred[ind],test_labels[ind][0]))\n",
    "        out.append([file_list[ind], pred[ind],test_labels[ind][0],label_list[ind]])\n",
    "\n",
    "frame = pd.DataFrame(np.array(out),columns=['file','Model','label','bbox'])\n",
    "frame.to_excel('image_classification_err.xlsx')"
   ]
  },
  {
   "cell_type": "code",
   "execution_count": 47,
   "metadata": {},
   "outputs": [
    {
     "name": "stdout",
     "output_type": "stream",
     "text": [
      "yes\n"
     ]
    }
   ],
   "source": [
    "file0 = err_file_list[0]\n",
    "if file0 in err_file_list:\n",
    "    print('yes')"
   ]
  },
  {
   "cell_type": "code",
   "execution_count": 6,
   "metadata": {},
   "outputs": [
    {
     "data": {
      "text/plain": [
       "0.7351651706695472"
      ]
     },
     "execution_count": 6,
     "metadata": {},
     "output_type": "execute_result"
    }
   ],
   "source": [
    "f1_score(test, pred, average='macro')"
   ]
  },
  {
   "cell_type": "code",
   "execution_count": 7,
   "metadata": {},
   "outputs": [
    {
     "data": {
      "text/plain": [
       "0.7339236195404042"
      ]
     },
     "execution_count": 7,
     "metadata": {},
     "output_type": "execute_result"
    }
   ],
   "source": [
    "recall_score(test, pred, average='macro')"
   ]
  },
  {
   "cell_type": "code",
   "execution_count": 8,
   "metadata": {},
   "outputs": [
    {
     "data": {
      "text/plain": [
       "0.742537578960083"
      ]
     },
     "execution_count": 8,
     "metadata": {},
     "output_type": "execute_result"
    }
   ],
   "source": [
    "precision_score(test, pred, average='macro')"
   ]
  },
  {
   "cell_type": "code",
   "execution_count": 9,
   "metadata": {},
   "outputs": [
    {
     "data": {
      "text/plain": [
       "'              precision    recall  f1-score   support\\n\\n           0       0.86      0.89      0.87       129\\n           1       0.65      0.80      0.72       138\\n           2       0.61      0.57      0.59        44\\n           3       0.82      0.75      0.78       207\\n           4       0.76      0.62      0.68        78\\n           5       0.75      0.78      0.77        23\\n\\n    accuracy                           0.76       619\\n   macro avg       0.74      0.73      0.74       619\\nweighted avg       0.77      0.76      0.76       619\\n'"
      ]
     },
     "execution_count": 9,
     "metadata": {},
     "output_type": "execute_result"
    }
   ],
   "source": [
    "from sklearn.metrics import confusion_matrix\n",
    "from sklearn.metrics import classification_report\n",
    "#confusion_matrix(test, pred)\n",
    "classification_report(test, pred)"
   ]
  },
  {
   "cell_type": "code",
   "execution_count": 100,
   "metadata": {},
   "outputs": [
    {
     "name": "stdout",
     "output_type": "stream",
     "text": [
      "Counter(data)\n",
      " Counter({(1, 3): 35, (3, 1): 14, (1, 4): 11, (3, 4): 11, (4, 3): 6, (2, 1): 6, (1, 2): 6, (0, 3): 5, (0, 1): 5, (3, 0): 5, (2, 3): 5, (4, 2): 5, (1, 0): 4, (0, 2): 4, (2, 4): 4, (0, 4): 4, (3, 2): 3, (1, 5): 3, (5, 1): 2, (5, 0): 2, (4, 0): 2, (0, 5): 1, (4, 1): 1, (4, 5): 1, (5, 3): 1, (5, 2): 1, (2, 0): 1})\n"
     ]
    }
   ],
   "source": [
    "from collections import Counter\n",
    "\n",
    "print('Counter(data)\\n',Counter(err_group))"
   ]
  },
  {
   "cell_type": "code",
   "execution_count": 99,
   "metadata": {},
   "outputs": [
    {
     "data": {
      "text/plain": [
       "148"
      ]
     },
     "execution_count": 99,
     "metadata": {},
     "output_type": "execute_result"
    }
   ],
   "source": [
    "len(err_group)"
   ]
  },
  {
   "cell_type": "code",
   "execution_count": 12,
   "metadata": {},
   "outputs": [
    {
     "name": "stdout",
     "output_type": "stream",
     "text": [
      "Counter(data)\n",
      " Counter({1: 325, 2: 126, 0: 118, 3: 21})\n"
     ]
    }
   ],
   "source": [
    "real_labels = [test_labels[i][0] for i in range(len(test_labels))]\n",
    "print('Counter(data)\\n',Counter(real_labels))"
   ]
  },
  {
   "cell_type": "code",
   "execution_count": 13,
   "metadata": {},
   "outputs": [
    {
     "data": {
      "text/plain": [
       "590"
      ]
     },
     "execution_count": 13,
     "metadata": {},
     "output_type": "execute_result"
    }
   ],
   "source": [
    "len(real_labels)"
   ]
  },
  {
   "cell_type": "code",
   "execution_count": 15,
   "metadata": {},
   "outputs": [
    {
     "name": "stdout",
     "output_type": "stream",
     "text": [
      "pred= 2\n",
      "real= 1\n"
     ]
    },
    {
     "data": {
      "image/png": "[encoded data removed]",
      "text/plain": [
       "<Figure size 432x288 with 1 Axes>"
      ]
     },
     "metadata": {
      "needs_background": "light"
     },
     "output_type": "display_data"
    }
   ],
   "source": [
    "err = (2,1)\n",
    "err_ind= []\n",
    "\n",
    "for ind in range(len(err_ind_list)):\n",
    "    if err_ind_list[ind][1] == err:\n",
    "        err_ind.append(err_ind_list[ind][0])\n",
    "\n",
    "ind_image = err_ind[0]\n",
    "plt.imshow(test_images[ind_image])\n",
    "print('pred=',pred[ind_image])\n",
    "print('real=',test_labels[ind_image][0])\n",
    "#print('Counter(data)\\n',Counter(err_ind))"
   ]
  },
  {
   "cell_type": "code",
   "execution_count": 23,
   "metadata": {},
   "outputs": [],
   "source": [
    "import pandas as pd\n",
    "sheet=pd.read_excel('YOLO_Errors.xlsx')\n",
    "yolo_err=sheet.values"
   ]
  },
  {
   "cell_type": "code",
   "execution_count": 96,
   "metadata": {},
   "outputs": [],
   "source": [
    "out2 = []\n",
    "err_group_yolo = []\n",
    "name1 = yolo_err[0][0]\n",
    "for er in yolo_err:\n",
    "    name2 = er[0]\n",
    "    if type(er[0]) == float:\n",
    "        name2 = name1\n",
    "    if type(er[1]) == float:\n",
    "        out2.append([name2,er[1],er[2][0],er[2]])\n",
    "    elif type(er[2]) == float:\n",
    "        out2.append([name2,er[1][0],'nan','nan'])\n",
    "    elif er[1][0]!=er[2][0]:\n",
    "        out2.append([name2,er[1][0],er[2][0],er[2]])\n",
    "        err_group_yolo.append((er[1][0],er[2][0]))\n",
    "    name1=name2\n",
    "    \n",
    "frame = pd.DataFrame(np.array(out2),columns=['file','Model','label','bbox'])\n",
    "frame.to_excel('Yolo_err_proc.xlsx')"
   ]
  },
  {
   "cell_type": "code",
   "execution_count": 97,
   "metadata": {},
   "outputs": [
    {
     "name": "stdout",
     "output_type": "stream",
     "text": [
      "Counter(data)\n",
      " Counter({('1', '3'): 10, ('3', '1'): 10, ('4', '2'): 9, ('3', '4'): 7, ('1', '2'): 5, ('0', '2'): 5, ('4', '3'): 4, ('0', '3'): 3, ('2', '1'): 2, ('2', '5'): 2, ('0', '4'): 2, ('2', '4'): 2, ('0', '1'): 2, ('1', '0'): 2, ('5', '3'): 1, ('4', '0'): 1, ('3', '0'): 1})\n"
     ]
    }
   ],
   "source": [
    "print('Counter(data)\\n',Counter(err_group_yolo))"
   ]
  },
  {
   "cell_type": "code",
   "execution_count": 98,
   "metadata": {},
   "outputs": [
    {
     "data": {
      "text/plain": [
       "68"
      ]
     },
     "execution_count": 98,
     "metadata": {},
     "output_type": "execute_result"
    }
   ],
   "source": [
    "len(err_group_yolo)"
   ]
  },
  {
   "cell_type": "code",
   "execution_count": 89,
   "metadata": {},
   "outputs": [
    {
     "name": "stdout",
     "output_type": "stream",
     "text": [
      "we\n",
      "we\n",
      "sdf\n"
     ]
    }
   ],
   "source": [
    "a='we'\n",
    "b=a\n",
    "print(b)\n",
    "b='sdf'\n",
    "print(a)\n",
    "a=b\n",
    "print(a)\n"
   ]
  },
  {
   "cell_type": "code",
   "execution_count": null,
   "metadata": {},
   "outputs": [],
   "source": []
  },
  {
   "cell_type": "code",
   "execution_count": null,
   "metadata": {},
   "outputs": [],
   "source": [
    "测试数据集一共375，\n",
    "\n",
    "六大类别（没有group）的结果：\n",
    "1. 六个类别分别对应的图片数量分布如下：{3: 113, 1: 91, 0: 75, 4: 42, 2: 34, 5: 20}\n",
    "2. 错误数33，即错误率8.8%，准确率91.2%;\n",
    "3. 识别错误的统计信息如下：\n",
    "（预测:实际）{(1, 3): 9, (2, 4): 3, (5, 0): 2, (2, 1): 2, (2, 0): 2, (2, 3): 2, (3, 2): 2, (3, 0): 1, (4, 1): 1, (0, 2): 1, (4, 2): 1, (4, 5): 1, (4, 3): 1, (5, 1): 1, (1, 0): 1, (5, 4): 1, (3, 4): 1, (4, 0): 1}\n",
    "也就是说（1,3）(2,4)容易混淆，这个比较合理\n",
    "\n",
    "如果group，结果如下：\n",
    "1. 变成四个类别，对应的图片数量分布如下：{1: 204, 2: 76, 0: 75, 3: 20}\n",
    "2. 错误数20，即错误率5.3%，准确率94.6%;\n",
    "3. 识别错误的统计信息如下：{(1, 2): 9, (1, 0): 3, (1, 3): 3, (2, 1): 2, (0, 3): 1, (2, 3): 1, (3, 2): 1}\n",
    "错误率最高的是（1，2）即fully 和 partial不好区别\n"
   ]
  },
  {
   "cell_type": "code",
   "execution_count": null,
   "metadata": {},
   "outputs": [],
   "source": []
  }
 ],
 "metadata": {
  "kernelspec": {
   "display_name": "Python 3",
   "language": "python",
   "name": "python3"
  },
  "language_info": {
   "codemirror_mode": {
    "name": "ipython",
    "version": 3
   },
   "file_extension": ".py",
   "mimetype": "text/x-python",
   "name": "python",
   "nbconvert_exporter": "python",
   "pygments_lexer": "ipython3",
   "version": "3.7.7"
  }
 },
 "nbformat": 4,
 "nbformat_minor": 4
}
